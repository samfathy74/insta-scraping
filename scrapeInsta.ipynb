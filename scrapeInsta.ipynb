{
 "cells": [
  {
   "cell_type": "code",
   "execution_count": 12,
   "metadata": {},
   "outputs": [],
   "source": [
    "import requests\n",
    "import os\n",
    "import re"
   ]
  },
  {
   "cell_type": "code",
   "execution_count": 221,
   "metadata": {},
   "outputs": [],
   "source": [
    "from selenium import webdriver\n",
    "from selenium.webdriver.support.ui import WebDriverWait\n",
    "from selenium.webdriver.support import expected_conditions as EC\n",
    "from time import sleep\n",
    "import sys\n",
    "import shutil"
   ]
  },
  {
   "cell_type": "code",
   "execution_count": 358,
   "metadata": {},
   "outputs": [],
   "source": [
    "from termcolor import cprint\n",
    "colors = ['red', 'blue', 'yellow', 'green']"
   ]
  },
  {
   "cell_type": "code",
   "execution_count": 359,
   "metadata": {},
   "outputs": [],
   "source": [
    "def Print(text, color):\n",
    "    \"\"\" Prints `text` in passed `color` \"\"\"\n",
    "    cprint(text, color)"
   ]
  },
  {
   "cell_type": "markdown",
   "metadata": {},
   "source": [
    "### LOG IN METHOD"
   ]
  },
  {
   "cell_type": "code",
   "execution_count": 290,
   "metadata": {},
   "outputs": [],
   "source": [
    "def login(driver, username, password):        \n",
    "    try: \n",
    "        username_input = driver.find_element_by_xpath('//input[@name = \"username\"]')\n",
    "    except Exception:\n",
    "        Print('Unable to find the username field.', colors[0])\n",
    "        sys.exit()\n",
    "\n",
    "    try: \n",
    "        password_input = driver.find_element_by_xpath('//input[@name = \"password\"]')\n",
    "    except Exception:\n",
    "        Print('Unable to find the password field.', colors[0])\n",
    "        sys.exit()\n",
    "    \n",
    "    # sending the credentials\n",
    "    try:\n",
    "        sleep(10)\n",
    "        username_input.send_keys(username)\n",
    "        password_input.send_keys(password)\n",
    "    except Exception:\n",
    "        Print('Please check your connection and try again.', colors[0])\n",
    "        sys.exit()\n",
    "\n",
    "    try:\n",
    "        sleep(5) # introduce sleep time as per your internet connection as to give the time to login page to load\n",
    "        # login_link = driver.find_element_by_link_text('Log in')\n",
    "        login_link = driver.find_element_by_css_selector(\"button[type='submit']\")\n",
    "        login_link.click()\n",
    "    except Exception:\n",
    "        Print('Unable to find the Login button.', colors[0])\n",
    "        sys.exit()\n",
    "\n",
    "    Print('Logging in...', colors[1])\n",
    "    \n",
    "    \n",
    "    # check if the login was successful\n",
    "    try:\n",
    "        WebDriverWait(driver, 20).until(EC.title_is('Instagram'))\n",
    "    except Exception:\n",
    "        Print('Please try again with correct credentials or check your connection.', colors[0])\n",
    "        sys.exit()\n",
    "\n",
    "    Print('Login Successful!', colors[-1])"
   ]
  },
  {
   "cell_type": "code",
   "execution_count": 291,
   "metadata": {},
   "outputs": [],
   "source": [
    "# def close_dialog_box(driver):\n",
    "#     ''' Close the Notification Dialog '''\n",
    "#     try:\n",
    "#         close_btn = driver.find_element_by_xpath('//button[text()=\"Not Now\"]')\n",
    "#         close_btn.click()\n",
    "#     except Exception:\n",
    "#         pass "
   ]
  },
  {
   "cell_type": "markdown",
   "metadata": {},
   "source": [
    "### OPEN TARGET ACC"
   ]
  },
  {
   "cell_type": "code",
   "execution_count": 292,
   "metadata": {},
   "outputs": [],
   "source": [
    "def open_target_profile(driver, main_url, target_username):  \n",
    "    target_profile_url  = main_url + '/' + target_username\n",
    "    sleep(10)\n",
    "    Print('Redirecting to {0} profile...'.format(target_username), colors[1])\n",
    "    \n",
    "    # check if the target user profile is loaded. \n",
    "    try:\n",
    "        driver.get(target_profile_url)\n",
    "        WebDriverWait(driver, 20).until(EC.title_contains(target_username))\n",
    "        sleep(10)\n",
    "    except TimeoutError:\n",
    "        Print('Some error occurred while trying to load the target username profile.', colors[0])\n",
    "        sys.exit()"
   ]
  },
  {
   "cell_type": "markdown",
   "metadata": {},
   "source": [
    "### Create Dir"
   ]
  },
  {
   "cell_type": "code",
   "execution_count": 366,
   "metadata": {},
   "outputs": [],
   "source": [
    "# # check if the directory to store data exists\n",
    "def create_dir(base_path, imagesData_path, descriptionsData_path, videoData_path):\n",
    "    if not os.path.exists('data'):\n",
    "        os.mkdir('data')\n",
    "    if not os.path.exists(base_path):\n",
    "        os.mkdir(base_path)\n",
    "    if not os.path.exists(imagesData_path):\n",
    "        os.mkdir(imagesData_path)\n",
    "    if not os.path.exists(videoData_path):\n",
    "        os.mkdir(videoData_path)\n",
    "    if not os.path.exists(descriptionsData_path):\n",
    "        os.mkdir(descriptionsData_path)"
   ]
  },
  {
   "cell_type": "markdown",
   "metadata": {},
   "source": [
    "### Enter Account Info and Target Data"
   ]
  },
  {
   "cell_type": "code",
   "execution_count": 293,
   "metadata": {},
   "outputs": [],
   "source": [
    "USERNAME = '******' \n",
    "PASSWORD = '*******'\n",
    "TARGET_USERNAME = '**********'\n",
    "MAIN_URL = 'https://www.instagram.com'\n",
    "\n",
    "base_path = os.path.join('data', TARGET_USERNAME)\n",
    "imagesData_path = os.path.join(base_path, 'images')\n",
    "videoData_path = os.path.join(base_path, 'videos')\n",
    "descriptionsData_path = os.path.join(base_path, 'descriptions')\n",
    "create_dir(base_path, imagesData_path, descriptionsData_path, videoData_path)"
   ]
  },
  {
   "cell_type": "markdown",
   "metadata": {},
   "source": [
    "### MAIN CELL"
   ]
  },
  {
   "cell_type": "code",
   "execution_count": null,
   "metadata": {},
   "outputs": [],
   "source": [
    "# check the internet connection and if the home page is fully loaded or not. \n",
    "driver = webdriver.Chrome('chromedriver')\n",
    "\n",
    "try:\n",
    "    driver.get(MAIN_URL)\n",
    "    WebDriverWait(driver, 20).until(EC.title_is('Instagram'))\n",
    "    sleep(6)\n",
    "except TimeoutError:\n",
    "    Print('Loading took too much time. Please check your connection and try again.', colors[-2])\n",
    "    sys.exit()\n",
    "\n",
    "login(driver=driver, username=USERNAME, password=PASSWORD)\n",
    "# close_dialog_box()\n",
    "sleep(6)\n",
    "open_target_profile(driver=driver, main_url=MAIN_URL, target_username=TARGET_USERNAME)\n",
    "\n",
    "# count of posts, followers and following  \"//ul[@class='_aa_7']/li[i]\"\n",
    "post_count = driver.find_element_by_xpath(\"//ul[@class='_aa_7']/li[1]\").text\n",
    "post_count = int(re.sub(\"\\D\", '', post_count))\n",
    "followers_count = driver.find_element_by_xpath(\"//ul[@class='_aa_7']/li[2]\").text\n",
    "following_count = driver.find_element_by_xpath(\"//ul[@class='_aa_7']/li[3]\").text\n",
    "\n",
    "mostly_data = dict({\n",
    "    \"posts\": post_count,\n",
    "    \"follower\":followers_count,\n",
    "    \"following\":following_count,\n",
    "})\n",
    "\n",
    "descriptions=[]\n",
    "image_list=[]\n",
    "video_list=[]\n",
    "\n",
    "for post in range(post_count):\n",
    "    if post == 0:\n",
    "        # 2. open first post \n",
    "        first_post = driver.find_element_by_xpath(\"//article/div[1]/div/div[1]/div[1]/a\")\n",
    "        first_post.click()\n",
    "        sleep(10)\n",
    "\n",
    "    # 3.1. if is video\n",
    "    video_button = driver.find_elements_by_xpath(\"//button[@aria-label='Toggle audio'][@class='_acan _acao _acas']\")\n",
    "\n",
    "    # 3.2. image or video\n",
    "    if video_button.__len__():\n",
    "        video = driver.find_element_by_xpath(\"//div[@class='_acam _ab1n']/div[@class='_ab1c']/video\").get_attribute('src')\n",
    "        video_list.append(video)\n",
    "        print(f\"VVVVV Is Video VVVV:  {video}\")\n",
    "    else:\n",
    "        img = driver.find_element_by_xpath(\"//div[contains(@class,'_aagu ')]/div[@class='_aagv']/img\").get_attribute('src')\n",
    "        image_list.append(img)\n",
    "        print(f\"IIII Is Image IIII: {img}\")\n",
    "    \n",
    "    # 3.3. description  \n",
    "    desc = driver.find_element_by_xpath(\"//div[@class='_a9zm']/div[@class='_a9zn _a9zo']/div[@class='_a9zr']/div[@class='_a9zs']/span\").text\n",
    "    descriptions.append(desc)\n",
    "\n",
    "    # 3.4. next post button \n",
    "    next_post = driver.find_element_by_xpath(\"//div[@class='_aani _aanj']/div[@class='_aank']/div[@class=' _aaqg _aaqh']/button\")\n",
    "    next_post.click()\n",
    "    sleep(10)\n",
    "    Print(f'====>> Go to post: {post+1} <<====', colors[-2])\n"
   ]
  },
  {
   "cell_type": "markdown",
   "metadata": {},
   "source": [
    "### Clean Description"
   ]
  },
  {
   "cell_type": "code",
   "execution_count": 308,
   "metadata": {},
   "outputs": [],
   "source": [
    "new_descriptions = []\n",
    "for i, t in enumerate(descriptions):\n",
    "    new_descriptions.append(re.sub(\"\\n.\", \"\" , t))"
   ]
  },
  {
   "cell_type": "markdown",
   "metadata": {},
   "source": [
    "### GET Account INFO"
   ]
  },
  {
   "cell_type": "code",
   "execution_count": 309,
   "metadata": {},
   "outputs": [
    {
     "data": {
      "text/plain": [
       "{'posts': 1420, 'follower': '157K followers', 'following': '580 following'}"
      ]
     },
     "execution_count": 309,
     "metadata": {},
     "output_type": "execute_result"
    }
   ],
   "source": [
    "mostly_data"
   ]
  },
  {
   "cell_type": "markdown",
   "metadata": {},
   "source": [
    "### SAVE DATA"
   ]
  },
  {
   "cell_type": "code",
   "execution_count": 367,
   "metadata": {},
   "outputs": [],
   "source": [
    "def save_description(descriptions_list):\n",
    "    with open(descriptionsData_path+'/description_file.txt', 'wb') as file:\n",
    "        for i, line in enumerate(descriptions_list):\n",
    "            file.write((str(i+1) + '.' + line+ '\\n').encode())"
   ]
  },
  {
   "cell_type": "code",
   "execution_count": 368,
   "metadata": {},
   "outputs": [],
   "source": [
    "def download_posts(image_list):\n",
    "    ''' To download all the posts of the target account ''' \n",
    "\n",
    "    no_of_images = len(image_list)\n",
    "\n",
    "    for index, link in enumerate(image_list, start = 1):\n",
    "        filename = 'image_' + str(index) + '.jpg'\n",
    "        image_path = os.path.join(imagesData_path, filename)\n",
    "\n",
    "        response = requests.get(link, stream=True)\n",
    "        Print('Downloading image {0} of {1}'.format(index, no_of_images), colors[-1])\n",
    "        try:\n",
    "            with open(image_path, 'wb') as file:\n",
    "                shutil.copyfileobj(response.raw, file)\n",
    "        except Exception as e:\n",
    "            Print(e, colors[0])\n",
    "            Print('Couldn\\'t download image {0}.'.format(index), colors[0])\n",
    "            Print('Link for image {0} ---> {1}'.format(index, link), colors[0])\n",
    "    Print('Download completed!', colors[-1])"
   ]
  },
  {
   "cell_type": "markdown",
   "metadata": {},
   "source": [
    "### Save Images "
   ]
  },
  {
   "cell_type": "code",
   "execution_count": 362,
   "metadata": {},
   "outputs": [
    {
     "name": "stdout",
     "output_type": "stream",
     "text": [
      "Downloading image 1 of 29\n",
      "Downloading image 2 of 29\n",
      "Downloading image 3 of 29\n",
      "Downloading image 4 of 29\n",
      "Downloading image 5 of 29\n",
      "Downloading image 6 of 29\n",
      "Downloading image 7 of 29\n",
      "Downloading image 8 of 29\n",
      "Downloading image 9 of 29\n",
      "Downloading image 10 of 29\n",
      "Downloading image 11 of 29\n",
      "Downloading image 12 of 29\n",
      "Downloading image 13 of 29\n",
      "Downloading image 14 of 29\n",
      "Downloading image 15 of 29\n",
      "Downloading image 16 of 29\n",
      "Downloading image 17 of 29\n",
      "Downloading image 18 of 29\n",
      "Downloading image 19 of 29\n",
      "Downloading image 20 of 29\n",
      "Downloading image 21 of 29\n",
      "Downloading image 22 of 29\n",
      "Downloading image 23 of 29\n",
      "Downloading image 24 of 29\n",
      "Downloading image 25 of 29\n",
      "Downloading image 26 of 29\n",
      "Downloading image 27 of 29\n",
      "Downloading image 28 of 29\n",
      "Downloading image 29 of 29\n",
      "Download completed!\n"
     ]
    }
   ],
   "source": [
    "download_posts(image_list)"
   ]
  },
  {
   "cell_type": "markdown",
   "metadata": {},
   "source": [
    "### Save Description of posts"
   ]
  },
  {
   "cell_type": "code",
   "execution_count": 369,
   "metadata": {},
   "outputs": [],
   "source": [
    "save_description(new_descriptions)"
   ]
  },
  {
   "cell_type": "markdown",
   "metadata": {},
   "source": [
    "### Close Driver"
   ]
  },
  {
   "cell_type": "code",
   "execution_count": null,
   "metadata": {},
   "outputs": [],
   "source": [
    "driver.close()"
   ]
  },
  {
   "cell_type": "code",
   "execution_count": null,
   "metadata": {},
   "outputs": [],
   "source": []
  },
  {
   "cell_type": "markdown",
   "metadata": {},
   "source": [
    "## $$ Thank~~You $$\n",
    "### $$ Salim~Fathy $$"
   ]
  },
  {
   "cell_type": "markdown",
   "metadata": {},
   "source": []
  }
 ],
 "metadata": {
  "kernelspec": {
   "display_name": "Python 3.10.2 64-bit",
   "language": "python",
   "name": "python3"
  },
  "language_info": {
   "codemirror_mode": {
    "name": "ipython",
    "version": 3
   },
   "file_extension": ".py",
   "mimetype": "text/x-python",
   "name": "python",
   "nbconvert_exporter": "python",
   "pygments_lexer": "ipython3",
   "version": "3.10.2"
  },
  "orig_nbformat": 4,
  "vscode": {
   "interpreter": {
    "hash": "665ae0994724b1013868f7e77634dfc5a85cce5f00c589345370b6c9a0cceb5a"
   }
  }
 },
 "nbformat": 4,
 "nbformat_minor": 2
}
